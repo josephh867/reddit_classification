{
 "cells": [
  {
   "cell_type": "markdown",
   "id": "dbba0cbc-b3a4-45dc-b8b2-aaf904c38204",
   "metadata": {},
   "source": [
    "# Project 3 - A Tale of Two Subreddits\n",
    "---"
   ]
  },
  {
   "cell_type": "markdown",
   "id": "0ca7911b-3130-456e-a679-31b166b1a43f",
   "metadata": {},
   "source": [
    "## Background\n",
    "---"
   ]
  },
  {
   "cell_type": "markdown",
   "id": "85339c92-8b69-485b-b69a-b1891e8e99de",
   "metadata": {},
   "source": [
    "One of the most popular and widely-used repositories of old Reddit data, [Pushshift](https://files.pushshift.io/reddit/) (the same Pushshift whose API I will use to scrape Reddit!) has run into an issue. While archiving some late 2020 data from r/Conservative and r/neoliberal posts, the two files were merged and mixed in a clerical error. The data about where each post came from and the post authors were deleted, and now the archivists have to recategorize these posts one by one.\n",
    "\n",
    "The problem with this, though, is that data is continually coming in from Reddit, and since the Pushshift archives are maintained by volunteers, resources are spread thin. This is where machine learning can come in to save the day!\n",
    "\n",
    "Since all of the available data (other than the date of posting) is in the form of text, I will be using **N**atural **L**anguage **P**rocessing (NLP) to turn this data into a form a computer model can understand. From here I will plug the data into the following classification models:\n",
    "\n",
    "1. A Multinomial Naive Bayes classifier\n",
    "2. A Random Forest Classifier\n",
    "\n",
    "Whichever model performs best on a selection of test data will be used to automatically categorize the missing posts and save the Pushshift team a lot of time!"
   ]
  },
  {
   "cell_type": "markdown",
   "id": "3ae99be4-0a6a-46fe-807a-e00be5ecf469",
   "metadata": {
    "tags": []
   },
   "source": [
    "## Problem Statement\n",
    "---"
   ]
  },
  {
   "cell_type": "markdown",
   "id": "21d45512-4962-4478-99aa-ad1d95903b5f",
   "metadata": {},
   "source": [
    "The main goal of this project will be to create two classifiers that can accurately recognize whether a reddit post was made to r/Conservative or r/neoliberal using only the title of the post and the description of the post."
   ]
  },
  {
   "cell_type": "markdown",
   "id": "27585870-c4bf-49ea-9a73-78508b2d1b9a",
   "metadata": {},
   "source": [
    "## Data Loading \n",
    "---"
   ]
  },
  {
   "cell_type": "markdown",
   "id": "125cdc4b-670f-4f6a-929d-62df2ac747da",
   "metadata": {},
   "source": [
    "The first thing that needs to be done is to use the Reddit RESTful API [Pushshift](https://github.com/pushshift/api). Here, I will use the API to scape data from **r/Conservative** and **r/neoliberal**. I chose to gather 100 posts from each subreddit every three days to try and keep the resulting dataset as balanced as possible. \n",
    "\n",
    "This *3 day* metric was chosen because I wanted to make sure that the API had 100 posts to choose from for each chunk of data. Based on statistics from [subredditstats](https://subredditstats.com/), both subreddits produce 100 posts about every 1.5 days, so I chose 3 days to try and account for variance."
   ]
  },
  {
   "cell_type": "code",
   "execution_count": 1,
   "id": "72147a29-3251-4417-92fe-f63896fbf012",
   "metadata": {},
   "outputs": [],
   "source": [
    "import requests\n",
    "import numpy as np\n",
    "import pandas as pd\n",
    "import time\n",
    "from datetime import date"
   ]
  },
  {
   "cell_type": "code",
   "execution_count": 2,
   "id": "da1da64e-688b-4da4-b224-1836d0a491db",
   "metadata": {},
   "outputs": [],
   "source": [
    "# Create a function to do this whole data gathering process\n",
    "def subreddit_wrangler(sdate, edate, sub_a, sub_b, frequency='3D'):\n",
    "    \"\"\"Takes in a start and end date from which to gather posts from two subreddits, a and b.\"\"\"\n",
    "    \n",
    "    # Convert the inputted dates to a range of dates, and convert to unix time\n",
    "    date_list = pd.date_range(start=sdate, end=edate, freq='3D')\n",
    "    epoch_list = date_list.astype(np.int64) // (10**9) ## Convert from nanoseconds to seconds\n",
    "    \n",
    "    # Set the url - assuming this function will always be used for submissions\n",
    "    url = 'https://api.pushshift.io/reddit/search/submission'\n",
    "    df = pd.DataFrame(columns=['selftext', 'subreddit', 'title']) ## Will return this dataframe\n",
    "\n",
    "    for i, date in enumerate(epoch_list):\n",
    "        # Trying to prevent the out of index error\n",
    "        if epoch_list[i + 1] == epoch_list[-1]:\n",
    "            return df\n",
    "\n",
    "        # For the neoliberal posts\n",
    "        params = {\n",
    "            'subreddit' : sub_a,\n",
    "            'size'      : 100,\n",
    "            'fields'    : ['title', 'subreddit', 'selftext'],\n",
    "            'after'     : date,\n",
    "            'before'    : epoch_list[i + 1]\n",
    "        }\n",
    "        res_a = requests.get(url, params=params)\n",
    "        print(res_a.status_code)\n",
    "        data_a = res_a.json()\n",
    "        posts_a = data_a['data']\n",
    "        raw_df_a = pd.DataFrame(posts_a)\n",
    "\n",
    "        # Wait 3 seconds before the next request\n",
    "        time.sleep(3)\n",
    "\n",
    "        # For the conservative posts\n",
    "        params['subreddit'] = sub_b\n",
    "        res_b = requests.get(url, params=params)\n",
    "        print(res_b.status_code)\n",
    "        data_b = res_b.json()\n",
    "        posts_b = data_b['data']\n",
    "        raw_df_b = pd.DataFrame(posts_b)\n",
    "\n",
    "        # Concat\n",
    "        data_chunk = pd.concat([raw_df_b, raw_df_a])\n",
    "\n",
    "        # Update the time frame\n",
    "        df = df.append(data_chunk)\n",
    "\n",
    "        # Wait 3 seconds before the next request\n",
    "        time.sleep(3)"
   ]
  },
  {
   "cell_type": "code",
   "execution_count": 3,
   "id": "c90e936f-d9dc-4a75-a521-8f5ecb0bdb30",
   "metadata": {
    "scrolled": true,
    "tags": []
   },
   "outputs": [
    {
     "name": "stdout",
     "output_type": "stream",
     "text": [
      "200\n",
      "200\n",
      "200\n",
      "200\n",
      "200\n",
      "200\n",
      "200\n",
      "200\n",
      "200\n",
      "200\n",
      "200\n",
      "200\n",
      "200\n",
      "200\n",
      "200\n",
      "200\n",
      "200\n",
      "200\n",
      "200\n",
      "200\n",
      "200\n",
      "200\n",
      "200\n",
      "200\n",
      "200\n",
      "200\n",
      "200\n",
      "200\n",
      "200\n",
      "200\n",
      "200\n",
      "200\n",
      "200\n",
      "200\n",
      "200\n",
      "200\n",
      "200\n",
      "200\n",
      "200\n",
      "200\n",
      "200\n",
      "200\n",
      "200\n",
      "200\n",
      "200\n",
      "200\n",
      "200\n",
      "200\n",
      "200\n",
      "200\n",
      "200\n",
      "200\n",
      "200\n",
      "200\n",
      "200\n",
      "200\n",
      "200\n",
      "200\n",
      "200\n",
      "200\n",
      "200\n",
      "200\n",
      "200\n",
      "200\n",
      "200\n",
      "200\n",
      "200\n",
      "200\n",
      "200\n",
      "200\n",
      "200\n",
      "200\n",
      "200\n",
      "200\n",
      "200\n",
      "200\n",
      "200\n",
      "200\n",
      "200\n",
      "200\n",
      "200\n",
      "200\n",
      "200\n",
      "200\n",
      "200\n",
      "200\n",
      "200\n",
      "200\n",
      "200\n",
      "200\n",
      "200\n",
      "200\n",
      "200\n",
      "200\n",
      "200\n",
      "200\n",
      "200\n",
      "200\n"
     ]
    }
   ],
   "source": [
    "data = subreddit_wrangler(sdate=date(2021, 1, 28), edate=date(2021, 6, 28), sub_a='neoliberal', sub_b='Conservative')"
   ]
  },
  {
   "cell_type": "markdown",
   "id": "411b67eb-d9bb-40fc-a0c0-0aad440c1be3",
   "metadata": {},
   "source": [
    "## Data Cleaning \n",
    "---"
   ]
  },
  {
   "cell_type": "markdown",
   "id": "86fdca01-f78e-4751-a0ee-3b101b59ccc9",
   "metadata": {},
   "source": [
    "Now that the data is loaded in, let's check it out to make sure there are no nulls, and to make sure all columns are numerical. I will also make sure the classes of the target (which subreddit the post came from) are balanced."
   ]
  },
  {
   "cell_type": "code",
   "execution_count": 4,
   "id": "b072c274-c9c8-4603-9983-8cf597e62d2f",
   "metadata": {},
   "outputs": [
    {
     "data": {
      "text/plain": [
       "(9090, 3)"
      ]
     },
     "execution_count": 4,
     "metadata": {},
     "output_type": "execute_result"
    }
   ],
   "source": [
    "data.shape"
   ]
  },
  {
   "cell_type": "code",
   "execution_count": 5,
   "id": "c2cafa03-76fc-4499-acdb-f51b13243a22",
   "metadata": {},
   "outputs": [
    {
     "data": {
      "text/plain": [
       "selftext     26\n",
       "subreddit     0\n",
       "title         0\n",
       "dtype: int64"
      ]
     },
     "execution_count": 5,
     "metadata": {},
     "output_type": "execute_result"
    }
   ],
   "source": [
    "data.isnull().sum() # Most nulls are replaced with [removed] or [deleted] or \"\""
   ]
  },
  {
   "cell_type": "code",
   "execution_count": 6,
   "id": "fd3b033d-0982-4ca5-a3a5-917209565d63",
   "metadata": {},
   "outputs": [],
   "source": [
    "# Drop these nulls, since there so few\n",
    "data.dropna(inplace=True)"
   ]
  },
  {
   "cell_type": "code",
   "execution_count": 7,
   "id": "fa083c09-aa6b-4517-ab4f-7503f73aa86a",
   "metadata": {},
   "outputs": [
    {
     "data": {
      "text/plain": [
       "Conservative    0.505516\n",
       "neoliberal      0.494484\n",
       "Name: subreddit, dtype: float64"
      ]
     },
     "execution_count": 7,
     "metadata": {},
     "output_type": "execute_result"
    }
   ],
   "source": [
    "data['subreddit'].value_counts(normalize=True)"
   ]
  },
  {
   "cell_type": "markdown",
   "id": "60725520-981b-4a2e-96ab-d300ccf5f779",
   "metadata": {},
   "source": [
    "The classes aren't *perfectly* balanced, but they are still pretty close. The fact that I dropped a few nulls and possible variance in the number of posts on either subreddit probably led to this slight imbalance.\n",
    "\n",
    "This also gives us the **baseline model - 50.5%**."
   ]
  },
  {
   "cell_type": "code",
   "execution_count": 8,
   "id": "2b62fde6-50e5-4d8e-be80-d85fdbc88962",
   "metadata": {
    "scrolled": true,
    "tags": []
   },
   "outputs": [
    {
     "data": {
      "text/plain": [
       "                                                                                                                                                                                                                                                                                                                                                                                                                                                                                                                                                                                                                                                                                                                                                                                                                                                                                                                                                                                                                                                                                                                                                                                                                                                                                                                                                                                                                                                                                                                                                                                                                                                                                                                                                                                                                                                                                                                                                                                                                                                                                                                                                              7275\n",
       "[removed]                                                                                                                                                                                                                                                                                                                                                                                                                                                                                                                                                                                                                                                                                                                                                                                                                                                                                                                                                                                                                                                                                                                                                                                                                                                                                                                                                                                                                                                                                                                                                                                                                                                                                                                                                                                                                                                                                                                                                                                                                                                                                                                                                      780\n",
       "[deleted]                                                                                                                                                                                                                                                                                                                                                                                                                                                                                                                                                                                                                                                                                                                                                                                                                                                                                                                                                                                                                                                                                                                                                                                                                                                                                                                                                                                                                                                                                                                                                                                                                                                                                                                                                                                                                                                                                                                                                                                                                                                                                                                                                      252\n",
       "Right now we're in a really important phase, where we have the ability to act and we desperately need to.\\n\\nBut, the wheels haven't quite started turning on a climate overhaul yet. Given that Biden has shown that he's willing to walk back on some campaign promises, what would you do if Biden doesn't take enough action towards climate?\\n\\nSo far I haven't seen neoliberals explain much of their non-electoral praxis, so I'm genuinely curious about what you'd do if Biden doesn't pull through?\\n\\nWould you protest? Perhaps vote against biden in the 2024 primaries? Etc.                                                                                                                                                                                                                                                                                                                                                                                                                                                                                                                                                                                                                                                                                                                                                                                                                                                                                                                                                                                                                                                                                                                                                                                                                                                                                                                                                                                                                                                                                                                                                                      5\n",
       "Title                                                                                                                                                                                                                                                                                                                                                                                                                                                                                                                                                                                                                                                                                                                                                                                                                                                                                                                                                                                                                                                                                                                                                                                                                                                                                                                                                                                                                                                                                                                                                                                                                                                                                                                                                                                                                                                                                                                                                                                                                                                                                                                                                            4\n",
       "                                                                                                                                                                                                                                                                                                                                                                                                                                                                                                                                                                                                                                                                                                                                                                                                                                                                                                                                                                                                                                                                                                                                                                                                                                                                                                                                                                                                                                                                                                                                                                                                                                                                                                                                                                                                                                                                                                                                                                                                                                                                                                                                                              ... \n",
       "[Statement by Moderna on Intellectual Property Matters during the COVID-19 Pandemic](https://www.fiercepharma.com/pharma/leading-vaccine-player-moderna-won-t-enforce-patents-against-other-companies-during-pandemic)\\n\\n&gt;Accordingly, while the pandemic continues, Moderna will not enforce our COVID-19 related patents against those making vaccines intended to combat the pandemic. Further, to eliminate any perceived IP barriers to vaccine development during the pandemic period, upon request we are also willing to license our intellectual property for COVID-19 vaccines to others for the post pandemic period. \\n\\nWith Moderna declaring their purpose to be removing \"perceived IP barriers to vaccine development \" and not actual barriers it seems like Moderna does not believe their decision eill have any effect aside from saving competitors licensing costs and a PR boost.\\n\\n\\n[Moderna sees no impact on COVID-19 vaccine from potential patent waiver](https://www.reuters.com/business/healthcare-pharmaceuticals/moderna-raises-2021-sales-forecast-covid-19-vaccine-192-bln-2021-05-06/)\\n\\n\\n&gt;Moderna Inc on Thursday said it believes countries around the globe would continue buying its COVID-19 vaccine for years even if patents on the shots are waived, noting that rivals would face significant hurdles in scaling up manufacturing.\\n\\n&gt;Moderna, which said in October it would not enforce patents on its vaccine during the pandemic, noted the lack of companies able to rapidly scale up complex manufacturing of a similar vaccine to meet surging global demand.\\n\\n&gt;\"They will have to go run a clinical trial, get the data, get the product approved and scale manufacturing. This does not happen in 6 or 12 or 18 months,\" Moderna Chief Executive Stephane Bancel said on a post-earnings conference call.\\n\\nModerna does not see waiving patents as having any significant effect for years. \\n\\n&amp;nbsp;\\n\\nBiden's decision seems to just be purely for posturing. The waiver seems only to provide moral high ground and allows him to claim he kept big pharma in check.       1\n",
       " It has been happening for decades and the media rarely every said anything about it. Ya there are Whites, Latinos, and other people that have done so as well but the Black on Asian violent crime is 280 times higher than Asian on Black crime.\\n\\n[https://www.palmny.org/uploads/1/5/6/0/15604612/20200806\\_black\\_on\\_asian\\_crime\\_statistics.pdf](https://www.palmny.org/uploads/1/5/6/0/15604612/20200806_black_on_asian_crime_statistics.pdf)                                                                                                                                                                                                                                                                                                                                                                                                                                                                                                                                                                                                                                                                                                                                                                                                                                                                                                                                                                                                                                                                                                                                                                                                                                                                                                                                                                                                                                                                                                                                                                                                                                                                                                          1\n",
       "I know this isn’t a geopolitical sub, but with the whole Syria strike causing some discussion about our presence in the Middle East I was curious as to where everyone thinks the next actual conflict will be? (ie Vietnam, Iraq, Korea) type conflict.                                                                                                                                                                                                                                                                                                                                                                                                                                                                                                                                                                                                                                                                                                                                                                                                                                                                                                                                                                                                                                                                                                                                                                                                                                                                                                                                                                                                                                                                                                                                                                                                                                                                                                                                                                                                                                                                                                         1\n",
       "&amp;#x200B;\\n\\n[The claim that ending homelessness in the US would cost \\\\\"$20 Billion\\\\\" seems to come from an official from HUD to the NYT. How much would it actually cost? A lot more, according to L.A. Homeless Services from 2018, housing the 23000 homeless persons in the city would cost at least $357 Million per year. And that's cheap compared to New York's program. Now simply calculate this. In 2017, per HUD, 550,000 persons are homeless, thus, it's reasonable to conclude that to provide at least some ongoing shelter to the standards of what LA's services are providing, would cost, year on year, $853000000. Homelessness is something well worth aspiring to end as its an incredibly cruel and unfair fate for who befalls it, but lying about the numbers is simply unproductive.](https://preview.redd.it/s7npuczg4cv61.png?width=596&amp;format=png&amp;auto=webp&amp;s=1e73bc038d417cbf04c39fdab06bd9c64f4f72b9)                                                                                                                                                                                                                                                                                                                                                                                                                                                                                                                                                                                                                                                                                                                                                                                                                                                                                                                                                                                                                                                                                                                                                                                                           1\n",
       "Liz Cheney of all people was ousted from leadership in the GOP because she didn't spread the big lie. \\n\\nTrumpism is here to stay, and with it is a deep distrust of democracy and racial antipathy. Yeah, the democrats won the 2020 election and the coup failed, but the GOP has committed itself to holding onto power by any means possible.  2022 and 2024 years are pivotal election years to ensure that Trumpism does not resurge. \\n\\nFurthermore, the last 4 years have damaged American institutions. That damage is not irrevocable, but someone needs to repair it. And at the end of the day, the power behind American institutions comes from the people. Quite a lot of the people have stopped believing in American intuitions. It's how a guy like Trump wins in the first place. \\n\\nPinning our hopes on the Biden admin alone to just sort out and fix the deep divisions in America and restore trust in American institutions and democracy is foolish. I think the real antidote to Trumpism is the people dedicating themselves to civil engagement and making the world a better place. \\n\\nTo that end, I think it would be meaningful to have a demonstration on January 6th in 2022 in support of fair and free elections, countering the false narrative by GOP thugs that the Capitol Siege was not that big a deal, and remembrance of the enormous sacrifice so many Americans made over our short history to keep the people free.                                                                                                                                                                                                                                                                                                                                                                                                                                                                                                                                                                                                                                                                                         1\n",
       "Name: selftext, Length: 728, dtype: int64"
      ]
     },
     "execution_count": 8,
     "metadata": {},
     "output_type": "execute_result"
    }
   ],
   "source": [
    "data['selftext'].value_counts()"
   ]
  },
  {
   "cell_type": "markdown",
   "id": "56d01f85-1365-4934-a840-307f203274ca",
   "metadata": {},
   "source": [
    "The `selftext` feature is full of nulls and empty values - most posts in these subreddits don't have descriptions. To save the entries that do exist, I will concatenate the `selftext` and `title` features (*thanks for the suggestion Noah!*)"
   ]
  },
  {
   "cell_type": "code",
   "execution_count": 9,
   "id": "62d38df6-bd37-4b8d-b06f-f7f6cddffc3c",
   "metadata": {},
   "outputs": [
    {
     "data": {
      "text/html": [
       "<div>\n",
       "<style scoped>\n",
       "    .dataframe tbody tr th:only-of-type {\n",
       "        vertical-align: middle;\n",
       "    }\n",
       "\n",
       "    .dataframe tbody tr th {\n",
       "        vertical-align: top;\n",
       "    }\n",
       "\n",
       "    .dataframe thead th {\n",
       "        text-align: right;\n",
       "    }\n",
       "</style>\n",
       "<table border=\"1\" class=\"dataframe\">\n",
       "  <thead>\n",
       "    <tr style=\"text-align: right;\">\n",
       "      <th></th>\n",
       "      <th>selftext</th>\n",
       "      <th>subreddit</th>\n",
       "      <th>title</th>\n",
       "      <th>text</th>\n",
       "    </tr>\n",
       "  </thead>\n",
       "  <tbody>\n",
       "    <tr>\n",
       "      <th>0</th>\n",
       "      <td></td>\n",
       "      <td>Conservative</td>\n",
       "      <td>John Kerry Declares Biden Administration Will ...</td>\n",
       "      <td>John Kerry Declares Biden Administration Will...</td>\n",
       "    </tr>\n",
       "    <tr>\n",
       "      <th>1</th>\n",
       "      <td></td>\n",
       "      <td>Conservative</td>\n",
       "      <td>Illegal Immigration and ‘Racial Equity’</td>\n",
       "      <td>Illegal Immigration and ‘Racial Equity’</td>\n",
       "    </tr>\n",
       "    <tr>\n",
       "      <th>2</th>\n",
       "      <td>[deleted]</td>\n",
       "      <td>Conservative</td>\n",
       "      <td>Of course it is</td>\n",
       "      <td>[deleted] Of course it is</td>\n",
       "    </tr>\n",
       "    <tr>\n",
       "      <th>3</th>\n",
       "      <td>[removed]</td>\n",
       "      <td>Conservative</td>\n",
       "      <td>The Future of the GOP</td>\n",
       "      <td>[removed] The Future of the GOP</td>\n",
       "    </tr>\n",
       "    <tr>\n",
       "      <th>4</th>\n",
       "      <td></td>\n",
       "      <td>Conservative</td>\n",
       "      <td>Joe Biden to Ban New Fracking Leases on Federa...</td>\n",
       "      <td>Joe Biden to Ban New Fracking Leases on Feder...</td>\n",
       "    </tr>\n",
       "  </tbody>\n",
       "</table>\n",
       "</div>"
      ],
      "text/plain": [
       "    selftext     subreddit                                              title  \\\n",
       "0             Conservative  John Kerry Declares Biden Administration Will ...   \n",
       "1             Conservative            Illegal Immigration and ‘Racial Equity’   \n",
       "2  [deleted]  Conservative                                    Of course it is   \n",
       "3  [removed]  Conservative                              The Future of the GOP   \n",
       "4             Conservative  Joe Biden to Ban New Fracking Leases on Federa...   \n",
       "\n",
       "                                                text  \n",
       "0   John Kerry Declares Biden Administration Will...  \n",
       "1            Illegal Immigration and ‘Racial Equity’  \n",
       "2                          [deleted] Of course it is  \n",
       "3                    [removed] The Future of the GOP  \n",
       "4   Joe Biden to Ban New Fracking Leases on Feder...  "
      ]
     },
     "execution_count": 9,
     "metadata": {},
     "output_type": "execute_result"
    }
   ],
   "source": [
    "# Simply add the strings - add a whitespace to make sure the vectorizer can recognize all of the words\n",
    "data['text'] = data.apply(lambda x: x['selftext'] + \" \" + x['title'], axis=1)\n",
    "data.head()"
   ]
  },
  {
   "cell_type": "markdown",
   "id": "f41ca71b-1b3c-4480-8ce2-eca21c314cd5",
   "metadata": {},
   "source": [
    "Next, binarize the target column `subreddit`:"
   ]
  },
  {
   "cell_type": "code",
   "execution_count": 10,
   "id": "5ef97f6f-f8a2-4f06-afdf-660371be234b",
   "metadata": {},
   "outputs": [],
   "source": [
    "# Binarize - 0 will represent Conservative, 1 neoliberal\n",
    "data['Target_col'] = data['subreddit'].map({'Conservative' : 0, 'neoliberal' : 1})"
   ]
  },
  {
   "cell_type": "markdown",
   "id": "bbb66b6a-dbab-471f-8e12-7246709155d8",
   "metadata": {},
   "source": [
    "## Dataset Saving\n",
    "---"
   ]
  },
  {
   "cell_type": "markdown",
   "id": "2e35f3c7-b19b-4be0-83b0-e8a812945b7c",
   "metadata": {},
   "source": [
    "Before I begin vectorizing and modeling, I will save this form of the data so that I have something to come back to in case of emergency (without having to wait 5 minutes to request data from Reddit)."
   ]
  },
  {
   "cell_type": "code",
   "execution_count": 11,
   "id": "c29be77a-cbeb-4c69-8776-6a35ac712901",
   "metadata": {},
   "outputs": [],
   "source": [
    "data.to_csv('../datasets/raw_text_data.csv', index=False)"
   ]
  },
  {
   "cell_type": "markdown",
   "id": "cdd88084-3199-4831-a8ab-92842d88917c",
   "metadata": {},
   "source": [
    "The dataset I am saving here can be described with the following data dictionary:\n",
    "\n",
    "|Feature|Type|Description|\n",
    "|---|---|---|\n",
    "|**selftext**|*object*|The description of a post|\n",
    "|**subreddit**|*object*|The source of the post, either Conservative or neoliberal|\n",
    "|**title**|*object*|The title of the post|\n",
    "|**text**|*object*|A concatenation of the `title` and `selftext` features|\n",
    "|**Target_col**|*object*|The **target** of the data - A binarization of `subreddit` where 0 represented r/Conservative and 1 represented r/neoliberal.|"
   ]
  },
  {
   "cell_type": "markdown",
   "id": "6cbb3113-c12d-43e1-bc0d-35fbaa3479b0",
   "metadata": {
    "tags": []
   },
   "source": [
    "## EDA\n",
    "---"
   ]
  },
  {
   "cell_type": "markdown",
   "id": "d5003760-5738-44fa-91cd-452a69e64d68",
   "metadata": {},
   "source": [
    "To perform more complex EDA on this data, I will need to vectorize the text. To do this, I will use `CountVectorizer` along with the standard visualization libraries: "
   ]
  },
  {
   "cell_type": "code",
   "execution_count": 12,
   "id": "e99d2f5e-1f1c-40ad-b888-a12e106d98f8",
   "metadata": {},
   "outputs": [],
   "source": [
    "import matplotlib.pyplot as plt\n",
    "import seaborn as sns\n",
    "from sklearn.feature_extraction.text import TfidfVectorizer\n",
    "import nltk"
   ]
  },
  {
   "cell_type": "code",
   "execution_count": 13,
   "id": "df9204f6-f409-4d96-bb04-86f4070cd0aa",
   "metadata": {},
   "outputs": [],
   "source": [
    "# Transform the data and place the output into a new dataframe\n",
    "stop_words = nltk.corpus.stopwords.words('english')\n",
    "\n",
    "# Add [removed] and [deleted] as stop words - they don't add value to the dataset\n",
    "stop_words = stop_words + ['deleted', 'removed']"
   ]
  },
  {
   "cell_type": "code",
   "execution_count": 14,
   "id": "995a2303-7a46-4d27-9e16-666c5adab006",
   "metadata": {},
   "outputs": [],
   "source": [
    "def feature_plotter(text, plot_title, save_as):\n",
    "    \"\"\"Make a bar plot of the ten most frequent words in a corpus. save_as should be a \n",
    "    relative path to the place you want to save the figure plus the filename.\"\"\"\n",
    "    tvec = TfidfVectorizer(stop_words=stop_words)\n",
    "\n",
    "    text_df = pd.DataFrame(tvec.fit_transform(text).todense(), \n",
    "                              columns=tvec.get_feature_names())\n",
    "    # Make a nice barplot\n",
    "    plt.figure(figsize=(12, 8))\n",
    "    text_df.sum().sort_values(ascending=False).head(10).plot(kind='barh')\n",
    "    plt.title(plot_title)\n",
    "    plt.xlabel('Word Frequency')\n",
    "    plt.ylabel('Words')\n",
    "    plt.savefig(save_as)\n",
    "    plt.show()\n",
    "    return "
   ]
  },
  {
   "cell_type": "code",
   "execution_count": 15,
   "id": "856db915-58e6-4152-8b1d-ae0f4ae55680",
   "metadata": {},
   "outputs": [
    {
     "data": {
      "image/png": "[encoded data removed]",
      "text/plain": [
       "<Figure size 864x576 with 1 Axes>"
      ]
     },
     "metadata": {
      "needs_background": "light"
     },
     "output_type": "display_data"
    }
   ],
   "source": [
    "feature_plotter(data['text'], 'The Ten Most Common Words of the Dataset', '../assets/overall_word_freq.png')"
   ]
  },
  {
   "cell_type": "code",
   "execution_count": null,
   "id": "cc4cf556-0286-419e-8a3a-5ff67f4e5aa2",
   "metadata": {},
   "outputs": [],
   "source": []
  },
  {
   "cell_type": "code",
   "execution_count": 18,
   "id": "caf55488-6bba-4a52-b8db-9b476b2db6b3",
   "metadata": {},
   "outputs": [
    {
     "data": {
      "image/png": "[encoded data removed]",
      "text/plain": [
       "<Figure size 864x576 with 1 Axes>"
      ]
     },
     "metadata": {
      "needs_background": "light"
     },
     "output_type": "display_data"
    }
   ],
   "source": [
    "# Now check the word frequencies of the two subreddits\n",
    "text_neolib = data.loc[data['Target_col'] == 1, ['text']]\n",
    "feature_plotter(text_neolib['text'], 'The Ten Most Common Words from the r/neoliberal Data', '../assets/neolib_word_freq.png')"
   ]
  },
  {
   "cell_type": "code",
   "execution_count": 19,
   "id": "d9d1fee1-014c-4519-b3c5-eafe626b9362",
   "metadata": {},
   "outputs": [
    {
     "data": {
      "image/png": "[encoded data removed]",
      "text/plain": [
       "<Figure size 864x576 with 1 Axes>"
      ]
     },
     "metadata": {
      "needs_background": "light"
     },
     "output_type": "display_data"
    }
   ],
   "source": [
    "text_con = data.loc[data['Target_col'] == 0, ['text']]\n",
    "feature_plotter(text_con['text'], 'The Ten Most Common Words from the r/Conservative Data', '../assets/con_word_freq.png')"
   ]
  },
  {
   "cell_type": "markdown",
   "id": "dd1246d1-aebf-43d1-bb9c-309dd749ae72",
   "metadata": {},
   "source": [
    "There are a lot of takeaways here:\n",
    "1. Biden is the most popular word in both of the subreddits by far (other than removed stop words). This might make classification harder because the word \"biden\" will strongly correlate with both subreddits.\n",
    "2. In both subreddits, one of the top ten words is the name of the subreddit. This should make classfication *much* easier.\n",
    "3. The inclusion of \"https\" in the neoliberal data is interesting. This must be the result of titles or selftext inlcuding a url. This implies that neoliberal subreddit posts include links to other sites often. This will also be useful in classification, as this might not be the case in r/Conservative.\n",
    "\n",
    "Now that some EDA has been performed, let's move onto the modeling portion of this project. This can be found in the [next notebook.]('02_modeling_conclusions.ipynb')"
   ]
  }
 ],
 "metadata": {
  "kernelspec": {
   "display_name": "Python 3",
   "language": "python",
   "name": "python3"
  },
  "language_info": {
   "codemirror_mode": {
    "name": "ipython",
    "version": 3
   },
   "file_extension": ".py",
   "mimetype": "text/x-python",
   "name": "python",
   "nbconvert_exporter": "python",
   "pygments_lexer": "ipython3",
   "version": "3.8.8"
  }
 },
 "nbformat": 4,
 "nbformat_minor": 5
}
